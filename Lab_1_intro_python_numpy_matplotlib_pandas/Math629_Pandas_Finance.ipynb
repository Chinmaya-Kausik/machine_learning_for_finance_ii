{
 "cells": [
  {
   "cell_type": "markdown",
   "id": "329423f6",
   "metadata": {},
   "source": [
    "# Basic Data Tools: Pandas"
   ]
  },
  {
   "cell_type": "markdown",
   "id": "0fc760ee",
   "metadata": {},
   "source": [
    "## Basics"
   ]
  },
  {
   "cell_type": "markdown",
   "id": "2afcf54f",
   "metadata": {},
   "source": [
    "The Pandas package introduces a very powerful data structure for working with labeled data in python: Dataframe. Each column represents a different type of data. The columns are named, so we will know what each entry in a column signifies. Each row represents a different entry in the dataset.\n",
    "\n",
    "At its core, pandas builds on top of numpy, so it is a bit slower than writing optimal code in numpy, but it is more convenient and appropriate for most use-cases. "
   ]
  },
  {
   "cell_type": "code",
   "execution_count": 1,
   "id": "1ef72ed4",
   "metadata": {},
   "outputs": [],
   "source": [
    "import pandas as pd\n",
    "import numpy as np\n",
    "import warnings\n",
    "warnings.filterwarnings('ignore')"
   ]
  },
  {
   "cell_type": "code",
   "execution_count": null,
   "id": "4c63baf1",
   "metadata": {},
   "outputs": [],
   "source": [
    "companies = ['Jane Street', 'Citadel', 'Two Sigma', 'Goldman Sachs', 'Morgan Stanley']\n",
    "Employees = [1200,1400,1600,40500,68000]\n",
    "company_type = ['Proprietary Trading', 'Hedge Fund', 'Hedge Fund', 'Investment Bank', 'Investment Bank']\n",
    "\n",
    "initial_comp_df = pd.DataFrame({'Company': companies, 'Industry Type': company_type, 'Number of Employees': Employees})\n",
    "initial_comp_df"
   ]
  },
  {
   "cell_type": "code",
   "execution_count": null,
   "id": "2090ea67",
   "metadata": {},
   "outputs": [],
   "source": [
    "# Index by company instead of integers\n",
    "comp_df = pd.DataFrame({'Industry Type':company_type,'Number of Employees':Employees}, index = companies)\n",
    "comp_df"
   ]
  },
  {
   "cell_type": "code",
   "execution_count": null,
   "id": "085b3b5c",
   "metadata": {},
   "outputs": [],
   "source": [
    "# Another way to create the same DataFrame\n",
    "comp_df = pd.DataFrame(list(zip(company_type,Employees)),columns = ['Industry Type','Number of Employees'], index = companies)\n",
    "comp_df"
   ]
  },
  {
   "cell_type": "markdown",
   "id": "f152f824",
   "metadata": {},
   "source": [
    "Dataframes have similarities to both dictionaries and numpy nd-arrays. We can retrive a column from a dataframe by using its name, just as we used to retrive an item from dictionary using its key\n"
   ]
  },
  {
   "cell_type": "code",
   "execution_count": null,
   "id": "275d831f",
   "metadata": {},
   "outputs": [],
   "source": [
    "comp_df['Number of Employees'] "
   ]
  },
  {
   "cell_type": "code",
   "execution_count": null,
   "id": "c7b7bd6f",
   "metadata": {},
   "outputs": [],
   "source": [
    "comp_df.shape #gives us rows and columns in dataframe"
   ]
  },
  {
   "cell_type": "markdown",
   "id": "c7187a8a",
   "metadata": {},
   "source": [
    "Just like we saw retriving columns by using its name, rows can also be accessed using **loc** method:-"
   ]
  },
  {
   "cell_type": "code",
   "execution_count": null,
   "id": "2da8fd3f",
   "metadata": {},
   "outputs": [],
   "source": [
    "comp_df.loc['Two Sigma'] #displaying the row Two Sigma"
   ]
  },
  {
   "cell_type": "code",
   "execution_count": null,
   "id": "60a52183",
   "metadata": {},
   "outputs": [],
   "source": [
    "comp_df.loc['Two Sigma','Number of Employees'] #number of employees in two sigma retrived"
   ]
  },
  {
   "cell_type": "code",
   "execution_count": null,
   "id": "615f7db7",
   "metadata": {},
   "outputs": [],
   "source": [
    "comp_df.loc['Two Sigma':'Morgan Stanley','Number of Employees'] #slicing a subsection"
   ]
  },
  {
   "cell_type": "code",
   "execution_count": null,
   "id": "0d6e2d4a",
   "metadata": {},
   "outputs": [],
   "source": [
    "comp_df.loc['Citadel':'Goldman Sachs','Industry Type'] #slicing a subsection"
   ]
  },
  {
   "cell_type": "markdown",
   "id": "c83e85dd",
   "metadata": {},
   "source": [
    "Adding a new row and column in dataframe is also quite simple and analogous to working with a dictionary. Similar is the case with dropping columns as well. Let us take a look at few examples:-"
   ]
  },
  {
   "cell_type": "code",
   "execution_count": null,
   "id": "8474b5cc",
   "metadata": {},
   "outputs": [],
   "source": [
    "comp_df['Attrition(in %)'] = [10,12,15,20,25] #an example of adding a column\n",
    "comp_df"
   ]
  },
  {
   "cell_type": "code",
   "execution_count": null,
   "id": "ca711ce2",
   "metadata": {},
   "outputs": [],
   "source": [
    "comp_df.loc['JP Morgan',:] = ['Investment Bank',100000,20] #adding a row\n",
    "comp_df"
   ]
  },
  {
   "cell_type": "code",
   "execution_count": null,
   "id": "04f9af74",
   "metadata": {},
   "outputs": [],
   "source": [
    "comp_df.drop('Attrition(in %)',axis = 1, inplace = True) #dropping a column\n",
    "comp_df"
   ]
  },
  {
   "cell_type": "code",
   "execution_count": null,
   "id": "6ac10363",
   "metadata": {},
   "outputs": [],
   "source": [
    "comp_df.sort_values(['Number of Employees'], ascending = False) #sorting a column"
   ]
  },
  {
   "cell_type": "markdown",
   "id": "1de5847d",
   "metadata": {},
   "source": [
    "## Operations on DataFrames using Yahoo Finance Data "
   ]
  },
  {
   "cell_type": "markdown",
   "id": "ebd822ba",
   "metadata": {},
   "source": [
    "We will use a custom package to get data from **yahoo finance** to get stock prices of a few companies and then will learn about some dataframe operations and applying functions to it "
   ]
  },
  {
   "cell_type": "code",
   "execution_count": 86,
   "id": "ffc94bd3",
   "metadata": {},
   "outputs": [],
   "source": [
    "import yfinance as yf"
   ]
  },
  {
   "cell_type": "code",
   "execution_count": null,
   "id": "a73bfbc4",
   "metadata": {},
   "outputs": [],
   "source": [
    "\n",
    "# download dataframe\n",
    "FAANG_data = yf.download(\"META AAPL GOOG MSFT AMZN NFLX NVDA\", start=\"2023-08-30\", end=\"2024-08-30\")\n",
    "#generally when we have a very large data, to get a feel for a data we generally display first few entries in dataframe\n",
    "\n",
    "FAANG_data.head()"
   ]
  },
  {
   "cell_type": "code",
   "execution_count": null,
   "id": "6229098f",
   "metadata": {},
   "outputs": [],
   "source": [
    "FAANG_data = FAANG_data.Close #getting closing prices for each of the stock\n",
    "FAANG_data.head()"
   ]
  },
  {
   "cell_type": "code",
   "execution_count": null,
   "id": "4c8db4d7",
   "metadata": {},
   "outputs": [],
   "source": [
    "FAANG_data.plot(use_index='True') #plot of stock prices"
   ]
  },
  {
   "cell_type": "markdown",
   "id": "c6d5dd1a",
   "metadata": {},
   "source": [
    "### Filter, Plot and Apply"
   ]
  },
  {
   "cell_type": "markdown",
   "id": "6c4f71ad",
   "metadata": {},
   "source": [
    "One of the important functionalities in Pandas in filtering dataframes. Often we want to work with a subset of data, based on some criteria. Let us take a look at few examples:-"
   ]
  },
  {
   "cell_type": "code",
   "execution_count": null,
   "id": "79b0c0bc",
   "metadata": {},
   "outputs": [],
   "source": [
    "print(FAANG_data.shape) \n",
    "FAANG_data_filtered = FAANG_data[(FAANG_data['AMZN'] < 190) & (FAANG_data['GOOG'] < 250)]\n",
    "print(FAANG_data_filtered.shape)"
   ]
  },
  {
   "cell_type": "markdown",
   "id": "a4e494bb",
   "metadata": {},
   "source": [
    "Normally in python, we use **and**, **or** while writing programs. In Pandas, we will have to use bitwise operations which are as follows:-\n",
    "\n",
    "& - and <br>\n",
    "or - | <br>\n",
    "not - ~ <br>"
   ]
  },
  {
   "cell_type": "code",
   "execution_count": null,
   "id": "70ad9b4e",
   "metadata": {},
   "outputs": [],
   "source": [
    "FAANG_data_filtered.tail()"
   ]
  },
  {
   "cell_type": "code",
   "execution_count": null,
   "id": "84e637c4",
   "metadata": {},
   "outputs": [],
   "source": [
    "comp_df[comp_df['Industry Type'].str.contains('Hedge')] #filtering with strings"
   ]
  },
  {
   "cell_type": "markdown",
   "id": "8788e70c",
   "metadata": {},
   "source": [
    "We can apply numpy mathematical functions to dataframes as well, which we will take a look:-"
   ]
  },
  {
   "cell_type": "code",
   "execution_count": null,
   "id": "54a13285",
   "metadata": {},
   "outputs": [],
   "source": [
    "FAANG_data_log = np.log(FAANG_data) #applying log transformation to each of the values\n",
    "FAANG_data_log.head()"
   ]
  },
  {
   "cell_type": "code",
   "execution_count": null,
   "id": "5d172ee5",
   "metadata": {},
   "outputs": [],
   "source": [
    "FAANG_data_log.plot() #plotting the log transformed data"
   ]
  },
  {
   "cell_type": "code",
   "execution_count": null,
   "id": "ccbd732a",
   "metadata": {},
   "outputs": [],
   "source": [
    "FAANG_data_exp_NFLX = FAANG_data.copy()\n",
    "FAANG_data_exp_NFLX['NFLX'] = np.log(FAANG_data_exp_NFLX['NFLX']) #applying transformation on a single column\n",
    "FAANG_data_exp_NFLX.head()"
   ]
  },
  {
   "cell_type": "markdown",
   "id": "c6d091c2",
   "metadata": {},
   "source": [
    "Often times, while doing data analysis...we would like to take a look at statistics of the numerical data such as its mean, median and if there are any null values in data. This is done by using describe function:-"
   ]
  },
  {
   "cell_type": "code",
   "execution_count": null,
   "id": "5c8d2a16",
   "metadata": {},
   "outputs": [],
   "source": [
    "FAANG_data.describe()"
   ]
  },
  {
   "cell_type": "code",
   "execution_count": null,
   "id": "256ad3cd",
   "metadata": {},
   "outputs": [],
   "source": [
    "#renaming columns\n",
    "FAANG_data.columns = ['Apple','Amazon','Google','Meta','Microsoft', 'Netflix','NVIDIA']\n",
    "FAANG_data.head()"
   ]
  },
  {
   "cell_type": "code",
   "execution_count": null,
   "id": "92738970",
   "metadata": {},
   "outputs": [],
   "source": [
    "FAANG_data>2000 #how filtering works essentially"
   ]
  },
  {
   "cell_type": "markdown",
   "id": "8e2d7a8d",
   "metadata": {},
   "source": [
    "We can often use multiple filter operations followed by selections in a single command to performm our task, it becomes very convenient. Lets see an example:-"
   ]
  },
  {
   "cell_type": "code",
   "execution_count": null,
   "id": "e867976d",
   "metadata": {},
   "outputs": [],
   "source": [
    "FAANG_data[FAANG_data.index<pd.to_datetime('2023-09-12', utc = True)][['Apple','Google']].tail()"
   ]
  },
  {
   "cell_type": "markdown",
   "id": "21993841",
   "metadata": {},
   "source": [
    "We can use apply function to perform operations on rows. Its a pythonic way of doing it, instead of writing loops. Lets see a couple of examples:-"
   ]
  },
  {
   "cell_type": "code",
   "execution_count": 100,
   "id": "974ee2cf",
   "metadata": {},
   "outputs": [],
   "source": [
    "def high_price(x,y):\n",
    "    if (x+y)//2>160:\n",
    "        return 'Yes'\n",
    "    else:\n",
    "        return 'No'"
   ]
  },
  {
   "cell_type": "code",
   "execution_count": null,
   "id": "316aeb93",
   "metadata": {},
   "outputs": [],
   "source": [
    "FAANG_data.head()"
   ]
  },
  {
   "cell_type": "code",
   "execution_count": null,
   "id": "2db3fb53",
   "metadata": {},
   "outputs": [],
   "source": [
    "FAANG_data['High Stock Price'] = FAANG_data.apply(lambda x: high_price(x['Google'],x['Amazon']), axis = 1)\n",
    "FAANG_data.head()"
   ]
  },
  {
   "cell_type": "code",
   "execution_count": null,
   "id": "7798619e",
   "metadata": {},
   "outputs": [],
   "source": [
    "FAANG_data[FAANG_data['High Stock Price'] == 'Yes'].head()"
   ]
  },
  {
   "cell_type": "markdown",
   "id": "b29984b9",
   "metadata": {},
   "source": [
    "### Missing Data and GroupBy"
   ]
  },
  {
   "cell_type": "code",
   "execution_count": null,
   "id": "5b04bd4f",
   "metadata": {},
   "outputs": [],
   "source": [
    "#just an example\n",
    "FAANG_data['Linkedin'] = np.random.choice([240,239,241,np.nan], size = len(FAANG_data))\n",
    "FAANG_data['Lyft'] = np.random.choice([300,296,298,np.nan], size = len(FAANG_data))\n",
    "FAANG_data.head()"
   ]
  },
  {
   "cell_type": "code",
   "execution_count": null,
   "id": "bc85c352",
   "metadata": {},
   "outputs": [],
   "source": [
    "#dropping null values\n",
    "FAANG_data.dropna().head()"
   ]
  },
  {
   "cell_type": "code",
   "execution_count": null,
   "id": "cf1d219a",
   "metadata": {},
   "outputs": [],
   "source": [
    "#imputing null values with mean and median\n",
    "FAANG_data['Linkedin'] = FAANG_data['Linkedin'].fillna(value = FAANG_data['Linkedin'].mean())\n",
    "FAANG_data['Lyft'] = FAANG_data['Lyft'].fillna(value = FAANG_data['Lyft'].median())\n",
    "FAANG_data.head()"
   ]
  },
  {
   "cell_type": "markdown",
   "id": "e91d7fee",
   "metadata": {},
   "source": [
    "Let us take a look at the **group by** operation. Groupby allows us to group together rows based off a column and perform an aggregate function on them( count, max, mean etc)"
   ]
  },
  {
   "cell_type": "code",
   "execution_count": null,
   "id": "ae50c01b",
   "metadata": {},
   "outputs": [],
   "source": [
    "comp_df.groupby('Industry Type').mean() #average number of employees in each industry type"
   ]
  },
  {
   "cell_type": "code",
   "execution_count": null,
   "id": "ff54139b",
   "metadata": {},
   "outputs": [],
   "source": [
    "comp_df.groupby('Industry Type').sum() #sum of employees in each industry type"
   ]
  },
  {
   "cell_type": "code",
   "execution_count": null,
   "id": "0b2d315a",
   "metadata": {},
   "outputs": [],
   "source": [
    "comp_df['Industry Type'].value_counts() #This operation is really helpful to know if there are any duplicate entries or count of each entry"
   ]
  },
  {
   "cell_type": "markdown",
   "id": "43f16461",
   "metadata": {},
   "source": [
    "Now, let us apply the **groupby** operation on FAANG_data, which we downloaded from yahoo finance, to calculate average monthly return on stock price of FAANG companies."
   ]
  },
  {
   "cell_type": "code",
   "execution_count": 110,
   "id": "3c914346",
   "metadata": {},
   "outputs": [],
   "source": [
    "FAANG_data['Avg FAANG Stock Price'] = FAANG_data.iloc[:,0:7].mean(axis = 1) #calculating avg stock price in a column"
   ]
  },
  {
   "cell_type": "code",
   "execution_count": null,
   "id": "cca92a83",
   "metadata": {},
   "outputs": [],
   "source": [
    "FAANG_data.head()"
   ]
  },
  {
   "cell_type": "code",
   "execution_count": null,
   "id": "4ffa5dd1",
   "metadata": {},
   "outputs": [],
   "source": [
    "Avg_FAANG_stockprice_data = FAANG_data[['Avg FAANG Stock Price']] #selecting columns in dataframe\n",
    "Avg_FAANG_stockprice_data.reset_index(inplace = True) #resetting index so that we can calculate monthly returns\n",
    "Avg_FAANG_stockprice_data['Mdate'] = Avg_FAANG_stockprice_data['Date'].dt.to_period('M')\n",
    "Avg_FAANG_stockprice_data.head()"
   ]
  },
  {
   "cell_type": "markdown",
   "id": "f356ce9c",
   "metadata": {},
   "source": [
    "## Finance Examples"
   ]
  },
  {
   "cell_type": "markdown",
   "id": "0c05beac",
   "metadata": {},
   "source": [
    "### Monthly Returns"
   ]
  },
  {
   "cell_type": "markdown",
   "id": "51d0a1a5",
   "metadata": {},
   "source": [
    "Let us understand how to calculate monthly returns from daily returns of a stock, as it will help us later\n",
    "\n",
    "Let $P_{0}$ be the initial stock price, and after a month the stock price becomes $P_{1}$, and $r_{0}$ be the monthly percentage return:-\n",
    "\n",
    "\\begin{equation}\n",
    "P_{1} = P_{0}(1+r_{0})\n",
    "\\end{equation}\n",
    "\n",
    "Let $r_1$, $r_2$, $\\ldots$, $r_{30}$ be the the daily returns of the stock in a month. Then we can write:-\n",
    "    \n",
    "\\begin{equation}\n",
    "P_{1} = P_{0}(1+r_{1})(1+r_{2})\\ldots(1+r_{30})\n",
    "\\end{equation}\n",
    "\n",
    "From both the above equations we can say that:-\n",
    "    \n",
    "$1+r_{0} = (1+r_{1})(1+r_{2})\\ldots(1+r_{30})$ <br>\n",
    "$r_{0} = (1+r_{1})(1+r_{2})\\ldots(1+r_{30}) - 1$\n",
    "\n",
    "Therefore, to calculate monthly return we will calculate daily return first:-\n",
    "\n"
   ]
  },
  {
   "cell_type": "code",
   "execution_count": null,
   "id": "b8bf39c1",
   "metadata": {},
   "outputs": [],
   "source": [
    "Avg_FAANG_stockprice_data['daily_return'] = Avg_FAANG_stockprice_data['Avg FAANG Stock Price'].pct_change()\n",
    "Avg_FAANG_stockprice_data['daily_return_adjusted'] = 1 + Avg_FAANG_stockprice_data['daily_return']\n",
    "Avg_FAANG_stockprice_data.head()"
   ]
  },
  {
   "cell_type": "markdown",
   "id": "0e2ddb29",
   "metadata": {},
   "source": [
    "Now we have to calculate monthly returns. It is evident that we will have to **groupby** using monthly date:-"
   ]
  },
  {
   "cell_type": "code",
   "execution_count": null,
   "id": "a25b7795",
   "metadata": {},
   "outputs": [],
   "source": [
    "Avg_FAANG_stockprice_data['Monthly Return'] = Avg_FAANG_stockprice_data.groupby('Mdate')['daily_return_adjusted'].transform(np.prod) - 1\n",
    "Avg_FAANG_stockprice_data.head()"
   ]
  },
  {
   "cell_type": "code",
   "execution_count": null,
   "id": "8222286b",
   "metadata": {},
   "outputs": [],
   "source": [
    "Avg_FAANG_stockprice_data[['Mdate','Monthly Return']].drop_duplicates().head() #dropping duplicates to see returns for each monthy"
   ]
  },
  {
   "cell_type": "markdown",
   "id": "d4d25fae",
   "metadata": {},
   "source": [
    "### The rolling() method and the MACD Trading Strategy"
   ]
  },
  {
   "cell_type": "code",
   "execution_count": 116,
   "id": "9d52ac3e",
   "metadata": {},
   "outputs": [],
   "source": [
    "import matplotlib.pyplot as plt\n",
    "# %matplotlib notebook"
   ]
  },
  {
   "cell_type": "markdown",
   "id": "8f42f9bf",
   "metadata": {},
   "source": [
    "Let us take a look at Apple stock price data:-"
   ]
  },
  {
   "cell_type": "code",
   "execution_count": null,
   "id": "7fda254e",
   "metadata": {},
   "outputs": [],
   "source": [
    "Apple_data = FAANG_data[['Apple']]\n",
    "Apple_data.head()"
   ]
  },
  {
   "cell_type": "markdown",
   "id": "afc51479",
   "metadata": {},
   "source": [
    " **Rolling** function provides the feature of rolling window calculations. We take a window of a desired size, and perform some mathematical operations on it. A common example is moving average which is often used in trading and time series forecasting"
   ]
  },
  {
   "cell_type": "code",
   "execution_count": null,
   "id": "096f253d",
   "metadata": {},
   "outputs": [],
   "source": [
    "Apple_data.rolling(3).mean()"
   ]
  },
  {
   "cell_type": "code",
   "execution_count": null,
   "id": "d5f1cc25",
   "metadata": {},
   "outputs": [],
   "source": [
    "plt.figure(figsize = (12,4))\n",
    "plt.plot(Apple_data)\n",
    "plt.xticks(rotation = 45)\n",
    "plt.title('Apple - Stock Price')\n",
    "plt.xlabel('Date')\n",
    "plt.ylabel('Price(in USD)')\n",
    "plt.show()"
   ]
  },
  {
   "cell_type": "markdown",
   "id": "5b40a080",
   "metadata": {},
   "source": [
    "**MACD** stands for Moving Average convergence/Divergence. It is a momentum indicator, that is it tells the general direction of stock in short to medium term.\n",
    "\n",
    "A few principles of MACD trading strategy:-\n",
    "\n",
    "We will calculate some exponential moving averages with window size 12 and 26. \n",
    "\n",
    "MACD line gives us the short to medium term trend of the price action(whether stock is going up, down, sideways)\n",
    "\n",
    "Signal line is 9 month exponential moving average of MACD line, so its just smoothened version of MACD line. "
   ]
  },
  {
   "cell_type": "code",
   "execution_count": 120,
   "id": "d7a46a17",
   "metadata": {},
   "outputs": [],
   "source": [
    "#Calculate short term exponential moving average\n",
    "ShortEMA = Apple_data.ewm(span = 12, adjust = False).mean()\n",
    "\n",
    "#Calculate long term exponential moving average\n",
    "LongEMA = Apple_data.ewm(span = 26, adjust = False).mean()\n",
    "\n",
    "#MACD line\n",
    "MACD = ShortEMA - LongEMA\n",
    "Apple_data['MACD'] = MACD\n",
    "\n",
    "#Signal Line\n",
    "signal = MACD.ewm(span = 9, adjust = False).mean()\n",
    "Apple_data['Signal'] = signal"
   ]
  },
  {
   "cell_type": "code",
   "execution_count": null,
   "id": "d9cd49a8",
   "metadata": {},
   "outputs": [],
   "source": [
    "plt.figure(figsize = (10,4))\n",
    "plt.plot(Apple_data.index,MACD,label = 'Apple MACD',color = 'red', linewidth = 2)\n",
    "plt.plot(Apple_data.index,signal,label = 'Signal Line', color = 'blue', linewidth = 2)\n",
    "plt.xticks(rotation = 45)\n",
    "plt.legend()\n",
    "plt.margins(x=0, y=0.01)\n",
    "plt.show()"
   ]
  },
  {
   "cell_type": "markdown",
   "id": "2cfda1ee",
   "metadata": {},
   "source": [
    "**MACD** trading strategy can be used as a buy or sell signal:-\n",
    "\n",
    "**Buy** when **MACD line** crosses above the **Signal Line** <br>\n",
    "**Sell** when **MACD line** crosses below the **Signal Line**\n"
   ]
  },
  {
   "cell_type": "markdown",
   "id": "362b78b3",
   "metadata": {},
   "source": [
    "**Pandas is the bread and butter of data analysis when it comes to tabular data. Play with it functionalities on your own to get a hang of it. We will be using operations like filter, null value imputation a lot in data cleaning**\n"
   ]
  },
  {
   "cell_type": "markdown",
   "id": "8c0c3519",
   "metadata": {},
   "source": []
  },
  {
   "cell_type": "markdown",
   "id": "933aa3a5",
   "metadata": {},
   "source": []
  }
 ],
 "metadata": {
  "kernelspec": {
   "display_name": "Python 3 (ipykernel)",
   "language": "python",
   "name": "python3"
  },
  "language_info": {
   "codemirror_mode": {
    "name": "ipython",
    "version": 3
   },
   "file_extension": ".py",
   "mimetype": "text/x-python",
   "name": "python",
   "nbconvert_exporter": "python",
   "pygments_lexer": "ipython3",
   "version": "3.11.9"
  }
 },
 "nbformat": 4,
 "nbformat_minor": 5
}
