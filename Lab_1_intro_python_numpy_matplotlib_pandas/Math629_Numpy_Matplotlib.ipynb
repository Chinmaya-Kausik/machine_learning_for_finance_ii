{
 "cells": [
  {
   "cell_type": "markdown",
   "id": "1376d9fc",
   "metadata": {},
   "source": [
    "Python is a powerful and flexible programming language. However, it doesn't have tools for performing complex mathematical operations and visualizing data. We mainly use three libraries for performing data analysis:-\n",
    "\n",
    "**1)Numpy** <br>\n",
    "**2)Matplotlib** <br>\n",
    "**3)Pandas**\n",
    "\n",
    "We will be covering Numpy and Matplotlib in this module."
   ]
  },
  {
   "cell_type": "markdown",
   "id": "e708d4f1",
   "metadata": {},
   "source": [
    "# Basic Data Tools: Numpy"
   ]
  },
  {
   "cell_type": "markdown",
   "id": "fbcab420",
   "metadata": {},
   "source": [
    "Numpy features are multi-dimensional, hence its used extensively in Machine Learning. Its highlights are:-\n",
    "\n",
    "**1)Mathematical toolkit(sin, log, exp)** <br>\n",
    "**2)Random Sampling Module(often used in ML)** <br>\n",
    "**3)Numpy nd-array object**\n",
    "\n",
    "A numpy array can be one dimensional, two dimensional or n-dimensional. We will look at:\n",
    "1. Making numpy arrays\n",
    "2. How numpy arrays are faster than python lists\n",
    "3. Numpy array operations\n",
    "4. Broadcasting"
   ]
  },
  {
   "cell_type": "markdown",
   "id": "f45af65b",
   "metadata": {},
   "source": [
    "### Making Numpy Arrays"
   ]
  },
  {
   "cell_type": "code",
   "execution_count": 3,
   "id": "e556585d",
   "metadata": {},
   "outputs": [],
   "source": [
    "#to access numpy, we will have to import it\n",
    "import numpy as np"
   ]
  },
  {
   "cell_type": "code",
   "execution_count": 4,
   "id": "e3ed2f59",
   "metadata": {},
   "outputs": [
    {
     "data": {
      "text/plain": [
       "array([[1, 2],\n",
       "       [3, 4]])"
      ]
     },
     "execution_count": 4,
     "metadata": {},
     "output_type": "execute_result"
    }
   ],
   "source": [
    "lists = [[1,2],[3,4]]\n",
    "np_array = np.array(lists) # make a numpy array from a list\n",
    "np_array"
   ]
  },
  {
   "cell_type": "code",
   "execution_count": 6,
   "id": "c2cc08ff",
   "metadata": {},
   "outputs": [
    {
     "name": "stdout",
     "output_type": "stream",
     "text": [
      "[[0.07807948 0.96211107 0.41842429]\n",
      " [0.22635162 0.65199559 0.88324849]]\n"
     ]
    },
    {
     "data": {
      "text/plain": [
       "(2, 3)"
      ]
     },
     "execution_count": 6,
     "metadata": {},
     "output_type": "execute_result"
    }
   ],
   "source": [
    "blah = np.random.rand(2,3) # create a 5x5 matrix with random numbers\n",
    "print(blah)\n",
    "blah.shape # this specifies the dimension of the matrix/array"
   ]
  },
  {
   "cell_type": "code",
   "execution_count": 7,
   "id": "42cc525d",
   "metadata": {},
   "outputs": [
    {
     "data": {
      "text/plain": [
       "array([[1],\n",
       "       [2],\n",
       "       [3],\n",
       "       [4]])"
      ]
     },
     "execution_count": 7,
     "metadata": {},
     "output_type": "execute_result"
    }
   ],
   "source": [
    "np_array_modified = np_array.reshape(4,1) # reshaping the array into another dimension \n",
    "np_array_modified"
   ]
  },
  {
   "cell_type": "markdown",
   "id": "1eac1b39",
   "metadata": {},
   "source": [
    "We can also create a variety of arrays using numpy functionalities:-"
   ]
  },
  {
   "cell_type": "code",
   "execution_count": 13,
   "id": "c6920edf",
   "metadata": {},
   "outputs": [
    {
     "data": {
      "text/plain": [
       "array([1.        , 2.33333333, 3.66666667, 5.        ])"
      ]
     },
     "execution_count": 13,
     "metadata": {},
     "output_type": "execute_result"
    }
   ],
   "source": [
    "np.linspace(1,5,4) # creates evenly spaced numbers"
   ]
  },
  {
   "cell_type": "code",
   "execution_count": 8,
   "id": "2ad62f30",
   "metadata": {},
   "outputs": [
    {
     "data": {
      "text/plain": [
       "array([[0., 0., 0.],\n",
       "       [0., 0., 0.]])"
      ]
     },
     "execution_count": 8,
     "metadata": {},
     "output_type": "execute_result"
    }
   ],
   "source": [
    "np.zeros(5) # array of zeros\n",
    "np.zeros([2,3]) # 2x3 matrix of zeros"
   ]
  },
  {
   "cell_type": "code",
   "execution_count": 9,
   "id": "7a5cc971",
   "metadata": {},
   "outputs": [
    {
     "data": {
      "text/plain": [
       "array([[[0., 0., 0.],\n",
       "        [0., 0., 0.],\n",
       "        [0., 0., 0.]],\n",
       "\n",
       "       [[0., 0., 0.],\n",
       "        [0., 0., 0.],\n",
       "        [0., 0., 0.]],\n",
       "\n",
       "       [[0., 0., 0.],\n",
       "        [0., 0., 0.],\n",
       "        [0., 0., 0.]]])"
      ]
     },
     "execution_count": 9,
     "metadata": {},
     "output_type": "execute_result"
    }
   ],
   "source": [
    "np.zeros((3,3,3)) # 3 dimensional array"
   ]
  },
  {
   "cell_type": "code",
   "execution_count": 10,
   "id": "08d5de66",
   "metadata": {},
   "outputs": [
    {
     "data": {
      "text/plain": [
       "array([[1., 0., 0., 0., 0.],\n",
       "       [0., 1., 0., 0., 0.],\n",
       "       [0., 0., 1., 0., 0.],\n",
       "       [0., 0., 0., 1., 0.],\n",
       "       [0., 0., 0., 0., 1.]])"
      ]
     },
     "execution_count": 10,
     "metadata": {},
     "output_type": "execute_result"
    }
   ],
   "source": [
    "np.eye(5) # identity matrix"
   ]
  },
  {
   "cell_type": "code",
   "execution_count": 11,
   "id": "6acb5276",
   "metadata": {},
   "outputs": [
    {
     "data": {
      "text/plain": [
       "array([[2, 0, 0],\n",
       "       [0, 5, 0],\n",
       "       [0, 0, 7]])"
      ]
     },
     "execution_count": 11,
     "metadata": {},
     "output_type": "execute_result"
    }
   ],
   "source": [
    "np.diag((2,5,7)) # diagonal matrix"
   ]
  },
  {
   "cell_type": "markdown",
   "id": "f3d4dafe",
   "metadata": {},
   "source": [
    "### Numpy Optimality Test"
   ]
  },
  {
   "cell_type": "markdown",
   "id": "836268d3",
   "metadata": {},
   "source": [
    "**Why are numpy arrays useful?** \n",
    "\n",
    "Numpy arrays are implemented with optimized code in C++, and python uses them as an interface, so it does computation quite fast"
   ]
  },
  {
   "cell_type": "code",
   "execution_count": 18,
   "id": "fcb4207c",
   "metadata": {},
   "outputs": [],
   "source": [
    "list_1 = [np.random.random() for _ in range(10000)]\n",
    "list_2 = np.array(list_1)"
   ]
  },
  {
   "cell_type": "code",
   "execution_count": 19,
   "id": "55df45d5",
   "metadata": {},
   "outputs": [
    {
     "name": "stdout",
     "output_type": "stream",
     "text": [
      "4.44 μs ± 13.2 ns per loop (mean ± std. dev. of 7 runs, 50,000 loops each)\n"
     ]
    }
   ],
   "source": [
    "%%timeit -n 50000\n",
    "np.sum(list_2)"
   ]
  },
  {
   "cell_type": "code",
   "execution_count": 22,
   "id": "6d8dca90",
   "metadata": {
    "scrolled": true
   },
   "outputs": [
    {
     "name": "stdout",
     "output_type": "stream",
     "text": [
      "18 μs ± 172 ns per loop (mean ± std. dev. of 7 runs, 50,000 loops each)\n"
     ]
    }
   ],
   "source": [
    "%%timeit -n 50000\n",
    "sum(list_1)"
   ]
  },
  {
   "cell_type": "markdown",
   "id": "ab5b2fda",
   "metadata": {},
   "source": [
    "### Numpy Operations"
   ]
  },
  {
   "cell_type": "markdown",
   "id": "166ac3e5",
   "metadata": {},
   "source": [
    "Numpy has also convenient way of performing operations. Lets calculate column sum of lists and np_array variables created above"
   ]
  },
  {
   "cell_type": "code",
   "execution_count": 23,
   "id": "aaa5b4b1",
   "metadata": {},
   "outputs": [
    {
     "data": {
      "text/plain": [
       "[[1, 2], [3, 4]]"
      ]
     },
     "execution_count": 23,
     "metadata": {},
     "output_type": "execute_result"
    }
   ],
   "source": [
    "lists"
   ]
  },
  {
   "cell_type": "code",
   "execution_count": 24,
   "id": "43f8efa9",
   "metadata": {},
   "outputs": [
    {
     "data": {
      "text/plain": [
       "[4, 6]"
      ]
     },
     "execution_count": 24,
     "metadata": {},
     "output_type": "execute_result"
    }
   ],
   "source": [
    "row_length = len(lists[0])\n",
    "[sum(row[i] for row in lists) for i in range(row_length)]"
   ]
  },
  {
   "cell_type": "code",
   "execution_count": 27,
   "id": "6acfd9d5",
   "metadata": {},
   "outputs": [
    {
     "data": {
      "text/plain": [
       "array([4, 6])"
      ]
     },
     "execution_count": 27,
     "metadata": {},
     "output_type": "execute_result"
    }
   ],
   "source": [
    "np.sum(np_array,axis = 0)"
   ]
  },
  {
   "cell_type": "code",
   "execution_count": 28,
   "id": "ad1b8049",
   "metadata": {},
   "outputs": [],
   "source": [
    "list_3 = np.array([1,2,3])\n",
    "list_4 = np.array([1,4,9])"
   ]
  },
  {
   "cell_type": "code",
   "execution_count": 29,
   "id": "46af616d",
   "metadata": {},
   "outputs": [
    {
     "name": "stdout",
     "output_type": "stream",
     "text": [
      "36\n",
      "36\n",
      "[ 2  6 12]\n",
      "[ 1  8 27]\n",
      "[ 0.54030231 -0.41614684 -0.9899925 ]\n"
     ]
    }
   ],
   "source": [
    "list_3 = np.array([1,2,3])\n",
    "list_4 = np.array([1,4,9])\n",
    "\n",
    "print(np.dot(list_3,list_4)) # dot_product\n",
    "print(list_3 @ list_4) # QUESTION: what does this do?\n",
    "print(list_3+list_4) #element-wise addition\n",
    "print(list_3*list_4) #element-wise multiplication\n",
    "print(np.cos(list_3)) #cosine of each entry"
   ]
  },
  {
   "cell_type": "code",
   "execution_count": 30,
   "id": "01e57b6e",
   "metadata": {},
   "outputs": [],
   "source": [
    "## TODO: Make two arrays and compute their dot product"
   ]
  },
  {
   "cell_type": "code",
   "execution_count": 31,
   "id": "99dc0bfc",
   "metadata": {},
   "outputs": [
    {
     "data": {
      "text/plain": [
       "array([[ 7, 24, 15, 20, 20, 13],\n",
       "       [19,  8, 15,  5, 16, 10],\n",
       "       [10,  7, 14,  8, 18,  8],\n",
       "       [15, 23, 23, 12,  5,  6],\n",
       "       [20,  5, 14, 19, 17,  7]])"
      ]
     },
     "execution_count": 31,
     "metadata": {},
     "output_type": "execute_result"
    }
   ],
   "source": [
    "np_matrix = np.random.randint(5,25,size = (5,6))\n",
    "np_matrix"
   ]
  },
  {
   "cell_type": "code",
   "execution_count": 32,
   "id": "1fd1f1c1",
   "metadata": {},
   "outputs": [
    {
     "name": "stdout",
     "output_type": "stream",
     "text": [
      "[15  5 16]\n",
      "[16.5        12.16666667 10.83333333 14.         13.66666667]\n",
      "[5.56027577 4.87909372 3.93347457 7.21110255 5.76387216]\n"
     ]
    }
   ],
   "source": [
    "print(np_matrix[1,2:5])\n",
    "print(np.mean(np_matrix,axis = 1)) #certain data aggregation options\n",
    "print(np.std(np_matrix, axis = 1)) "
   ]
  },
  {
   "cell_type": "code",
   "execution_count": null,
   "id": "4cd11e67",
   "metadata": {},
   "outputs": [],
   "source": [
    "# We can multiply matrices using @\n",
    "# TODO: Multiple lists by an array given by [2,4]"
   ]
  },
  {
   "cell_type": "markdown",
   "id": "bbb2c6fe",
   "metadata": {},
   "source": [
    "These are some of the basic functionalities of Numpy. As we go along the course, we will encounter more. \n",
    "\n",
    "The first step often in data analysis is data visualization. Matplotlib is a very important library for plotting, which we shall take a look at next"
   ]
  },
  {
   "cell_type": "markdown",
   "id": "4d18d0be",
   "metadata": {},
   "source": [
    "### Broadcasting"
   ]
  },
  {
   "cell_type": "markdown",
   "id": "c4326223",
   "metadata": {},
   "source": [
    "Broadcasting is a powerful mechanism that allows numpy to work with arrays of different shapes when performing arithmetic operations. Frequently we have a smaller array and a larger array, and we want to use the smaller array multiple times to perform some operation on the larger array.\n",
    "\n",
    "For example, suppose that we want to add a constant vector to each row of a matrix. We could do it like this:"
   ]
  },
  {
   "cell_type": "code",
   "execution_count": 33,
   "id": "be751280",
   "metadata": {},
   "outputs": [
    {
     "data": {
      "text/plain": [
       "array([[ 2,  2,  4],\n",
       "       [ 5,  5,  7],\n",
       "       [ 8,  8, 10],\n",
       "       [11, 11, 13]])"
      ]
     },
     "execution_count": 33,
     "metadata": {},
     "output_type": "execute_result"
    }
   ],
   "source": [
    "# We will add the vector v to each row of the matrix x,\n",
    "# storing the result in the matrix y\n",
    "x = np.array([[1, 2, 3], [4, 5, 6], [7, 8, 9], [10, 11, 12]])  # [4 x 3] matrix\n",
    "v = np.array([1, 0, 1])  # [3]-dim vector\n",
    "y = np.zeros_like(x)   # Create an empty matrix with the same shape as x\n",
    "\n",
    "# Add the vector v to each row of the matrix x with an explicit loop\n",
    "for i in range(4):\n",
    "    y[i, :] = x[i, :] + v\n",
    "\n",
    "y"
   ]
  },
  {
   "cell_type": "markdown",
   "id": "28c73065",
   "metadata": {},
   "source": [
    "This works; however when the matrix x is very large, computing an explicit loop in Python could be slow. Note that adding the vector v to each row of the matrix x is equivalent to forming a matrix vv by stacking multiple copies of v vertically, then performing elementwise summation of x and vv. We could implement this approach like this:"
   ]
  },
  {
   "cell_type": "code",
   "execution_count": 34,
   "id": "c596ad67",
   "metadata": {},
   "outputs": [
    {
     "name": "stdout",
     "output_type": "stream",
     "text": [
      "[[1 0 1]\n",
      " [1 0 1]\n",
      " [1 0 1]\n",
      " [1 0 1]]\n"
     ]
    },
    {
     "data": {
      "text/plain": [
       "array([[ 2,  2,  4],\n",
       "       [ 5,  5,  7],\n",
       "       [ 8,  8, 10],\n",
       "       [11, 11, 13]])"
      ]
     },
     "execution_count": 34,
     "metadata": {},
     "output_type": "execute_result"
    }
   ],
   "source": [
    "vv = np.tile(v, (4, 1))  # Stack 4 copies of v on top of each other\n",
    "print(vv)\n",
    "y = x + vv  # Add x and vv elementwise\n",
    "y"
   ]
  },
  {
   "cell_type": "markdown",
   "id": "90919a3c",
   "metadata": {},
   "source": [
    "Numpy broadcasting allows us to perform this computation without actually creating multiple copies of v. Consider this version, using broadcasting:"
   ]
  },
  {
   "cell_type": "code",
   "execution_count": 35,
   "id": "d31990c4",
   "metadata": {},
   "outputs": [
    {
     "name": "stdout",
     "output_type": "stream",
     "text": [
      "x.shape = (4, 3), v.shape=(3,)\n"
     ]
    },
    {
     "data": {
      "text/plain": [
       "array([[ 2,  2,  4],\n",
       "       [ 5,  5,  7],\n",
       "       [ 8,  8, 10],\n",
       "       [11, 11, 13]])"
      ]
     },
     "execution_count": 35,
     "metadata": {},
     "output_type": "execute_result"
    }
   ],
   "source": [
    "print(f\"x.shape = {x.shape}, v.shape={v.shape}\")\n",
    "y = x + v  # Add v to each row of x using broadcasting\n",
    "y"
   ]
  },
  {
   "cell_type": "code",
   "execution_count": null,
   "id": "510158e4",
   "metadata": {},
   "outputs": [],
   "source": [
    "# TODO: Make x with shape 10000 x 1000 and v with shape 1000 and time all three ways to get y"
   ]
  },
  {
   "cell_type": "markdown",
   "id": "52cfb03e",
   "metadata": {},
   "source": [
    "Recommended: read the explanation from the [documentation](http://docs.scipy.org/doc/numpy/user/basics.broadcasting.html) or this [explanation](http://wiki.scipy.org/EricsBroadcastingDoc).\n",
    "\n",
    "Functions that support broadcasting are known as **universal functions**. You can find the list of all universal functions in the [documentation](http://docs.scipy.org/doc/numpy/reference/ufuncs.html#available-ufuncs)."
   ]
  },
  {
   "cell_type": "markdown",
   "id": "aa3577f3",
   "metadata": {},
   "source": [
    "# Basic Data Tools: Matplotlib"
   ]
  },
  {
   "cell_type": "code",
   "execution_count": 36,
   "id": "877f0efb",
   "metadata": {},
   "outputs": [],
   "source": [
    "import matplotlib.pyplot as plt"
   ]
  },
  {
   "cell_type": "code",
   "execution_count": 37,
   "id": "9451c761",
   "metadata": {},
   "outputs": [],
   "source": [
    "num_of_days = 365\n",
    "\n",
    "days_array = np.arange(num_of_days)\n",
    "profit_array = np.random.randn(num_of_days)* 10000  \n"
   ]
  },
  {
   "cell_type": "code",
   "execution_count": 39,
   "id": "4be08fe9",
   "metadata": {},
   "outputs": [
    {
     "data": {
      "text/plain": [
       "Text(0, 0.5, 'Profit in Millions')"
      ]
     },
     "execution_count": 39,
     "metadata": {},
     "output_type": "execute_result"
    },
    {
     "data": {
      "image/png": "[encoded data removed]",
      "text/plain": [
       "<Figure size 640x480 with 1 Axes>"
      ]
     },
     "metadata": {},
     "output_type": "display_data"
    }
   ],
   "source": [
    "plt.plot(days_array,profit_array)\n",
    "plt.xlabel('Time(in Days)')             # data plotting\n",
    "plt.ylabel('Profit in Millions')   "
   ]
  },
  {
   "cell_type": "code",
   "execution_count": 40,
   "id": "a640be98",
   "metadata": {},
   "outputs": [],
   "source": [
    "\n",
    "np.random.seed(2)\n",
    "actuals_turnover = np.random.randint(100000,200000,(1,20))\n",
    "forecast_turnover = 130000 + np.random.randint(0,100000,(1,20))*0.3"
   ]
  },
  {
   "cell_type": "code",
   "execution_count": 41,
   "id": "9eba9ac2",
   "metadata": {},
   "outputs": [
    {
     "data": {
      "text/plain": [
       "Text(0, 0.5, 'Forecasts(in million)')"
      ]
     },
     "execution_count": 41,
     "metadata": {},
     "output_type": "execute_result"
    },
    {
     "data": {
      "image/png": "[encoded data removed]",
      "text/plain": [
       "<Figure size 640x480 with 1 Axes>"
      ]
     },
     "metadata": {},
     "output_type": "display_data"
    }
   ],
   "source": [
    "plt.scatter(actuals_turnover,forecast_turnover, label = 'Data')\n",
    "plt.plot(np.arange(100000,200000),np.arange(100000,200000), color = 'r')\n",
    "plt.xlabel('Actuals(in million)')\n",
    "plt.ylabel('Forecasts(in million)')"
   ]
  },
  {
   "cell_type": "code",
   "execution_count": 42,
   "id": "ac80150a",
   "metadata": {},
   "outputs": [],
   "source": [
    "# TODO: Plot the graph of a parabolic function in one variable using matplotlib. How would you do it?\n",
    "# Hint (Well, more like the answer): Use np.linspace to create a dense discrete range of values for x and then plot y = x^2"
   ]
  },
  {
   "cell_type": "code",
   "execution_count": null,
   "id": "afc59ee8",
   "metadata": {},
   "outputs": [],
   "source": []
  },
  {
   "cell_type": "code",
   "execution_count": null,
   "id": "1e61dce6",
   "metadata": {},
   "outputs": [],
   "source": []
  }
 ],
 "metadata": {
  "kernelspec": {
   "display_name": "Python 3 (ipykernel)",
   "language": "python",
   "name": "python3"
  },
  "language_info": {
   "codemirror_mode": {
    "name": "ipython",
    "version": 3
   },
   "file_extension": ".py",
   "mimetype": "text/x-python",
   "name": "python",
   "nbconvert_exporter": "python",
   "pygments_lexer": "ipython3",
   "version": "3.11.9"
  }
 },
 "nbformat": 4,
 "nbformat_minor": 5
}
